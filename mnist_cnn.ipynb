{
 "cells": [
  {
   "cell_type": "code",
   "execution_count": 3,
   "metadata": {},
   "outputs": [],
   "source": [
    "from keras.datasets import mnist\n",
    "from keras.utils import np_utils\n",
    "from keras.models import Sequential\n",
    "from keras.layers import Dense, Dropout, Flatten, Conv2D, MaxPooling2D\n",
    "from keras.callbacks import ModelCheckpoint, EarlyStopping\n",
    "import matplotlib.pyplot as plt\n",
    "import numpy as np\n",
    "import os\n",
    "import tensorflow as tf"
   ]
  },
  {
   "cell_type": "code",
   "execution_count": 8,
   "metadata": {},
   "outputs": [],
   "source": [
    "#데이터 불러오기\n",
    "(x_train, y_train), (x_test, y_test) = mnist.load_data()"
   ]
  },
  {
   "cell_type": "code",
   "execution_count": 9,
   "metadata": {},
   "outputs": [],
   "source": [
    "#reshape작업하는 것은 기존의 값에 1 scale추가해줌\n",
    "x_train = x_train.reshape(x_train.shape[0], 28,28,1).astype('float32')/255\n",
    "x_test = x_test.reshape(x_test.shape[0], 28,28,1).astype('float32')/255\n",
    "y_train = np_utils.to_categorical(y_train)\n",
    "y_test = np_utils.to_categorical(y_test)"
   ]
  },
  {
   "cell_type": "code",
   "execution_count": 11,
   "metadata": {},
   "outputs": [],
   "source": [
    "#컨볼루션 신경망 설정\n",
    "model = Sequential()\n",
    "model.add(Conv2D(32,kernel_size=(3,3), input_shape=(28,28,1), activation='relu'))\n",
    "model.add(Conv2D(64,(3,3), activation='relu'))\n",
    "model.add(MaxPooling2D(pool_size=2))\n",
    "model.add(Dropout(0.25))\n",
    "model.add(Flatten())\n",
    "model.add(Dense(128, activation='relu'))\n",
    "model.add(Dropout(0.5))\n",
    "model.add(Dense(10, activation='softmax'))"
   ]
  },
  {
   "cell_type": "code",
   "execution_count": 12,
   "metadata": {},
   "outputs": [
    {
     "name": "stdout",
     "output_type": "stream",
     "text": [
      "Model: \"sequential_1\"\n",
      "_________________________________________________________________\n",
      "Layer (type)                 Output Shape              Param #   \n",
      "=================================================================\n",
      "conv2d_2 (Conv2D)            (None, 26, 26, 32)        320       \n",
      "_________________________________________________________________\n",
      "conv2d_3 (Conv2D)            (None, 24, 24, 64)        18496     \n",
      "_________________________________________________________________\n",
      "max_pooling2d (MaxPooling2D) (None, 12, 12, 64)        0         \n",
      "_________________________________________________________________\n",
      "dropout (Dropout)            (None, 12, 12, 64)        0         \n",
      "_________________________________________________________________\n",
      "flatten (Flatten)            (None, 9216)              0         \n",
      "_________________________________________________________________\n",
      "dense (Dense)                (None, 128)               1179776   \n",
      "_________________________________________________________________\n",
      "dropout_1 (Dropout)          (None, 128)               0         \n",
      "_________________________________________________________________\n",
      "dense_1 (Dense)              (None, 10)                1290      \n",
      "=================================================================\n",
      "Total params: 1,199,882\n",
      "Trainable params: 1,199,882\n",
      "Non-trainable params: 0\n",
      "_________________________________________________________________\n"
     ]
    }
   ],
   "source": [
    "model.summary()"
   ]
  },
  {
   "cell_type": "code",
   "execution_count": 13,
   "metadata": {},
   "outputs": [],
   "source": [
    "model.compile(loss='categorical_crossentropy',\n",
    "             optimizer='adam',\n",
    "             metrics=['accuracy'])"
   ]
  },
  {
   "cell_type": "code",
   "execution_count": 14,
   "metadata": {},
   "outputs": [],
   "source": [
    "#모델 최적화 설정\n",
    "modelpath = './model/{epoch:02d}-{val_loss:.4f}.hdf5'\n",
    "checkpointer = ModelCheckpoint(filepath=modelpath,\n",
    "                              monitor='val_loss',\n",
    "                              verbose=1,#저장되는 시점에서는 찍을것\n",
    "                              save_best_only=True)\n",
    "#val_loss: 검증용 데이터의 로스값\n",
    "early_stopping = EarlyStopping(monitor='val_loss', patience=10)"
   ]
  },
  {
   "cell_type": "code",
   "execution_count": 15,
   "metadata": {},
   "outputs": [
    {
     "name": "stdout",
     "output_type": "stream",
     "text": [
      "\n",
      "Epoch 00001: val_loss improved from inf to 0.05475, saving model to ./model\\01-0.0547.hdf5\n",
      "\n",
      "Epoch 00002: val_loss improved from 0.05475 to 0.03978, saving model to ./model\\02-0.0398.hdf5\n",
      "\n",
      "Epoch 00003: val_loss improved from 0.03978 to 0.03665, saving model to ./model\\03-0.0366.hdf5\n",
      "\n",
      "Epoch 00004: val_loss improved from 0.03665 to 0.03061, saving model to ./model\\04-0.0306.hdf5\n",
      "\n",
      "Epoch 00005: val_loss did not improve from 0.03061\n",
      "\n",
      "Epoch 00006: val_loss improved from 0.03061 to 0.02842, saving model to ./model\\06-0.0284.hdf5\n",
      "\n",
      "Epoch 00007: val_loss did not improve from 0.02842\n",
      "\n",
      "Epoch 00008: val_loss did not improve from 0.02842\n",
      "\n",
      "Epoch 00009: val_loss did not improve from 0.02842\n",
      "\n",
      "Epoch 00010: val_loss did not improve from 0.02842\n",
      "\n",
      "Epoch 00011: val_loss did not improve from 0.02842\n",
      "\n",
      "Epoch 00012: val_loss improved from 0.02842 to 0.02780, saving model to ./model\\12-0.0278.hdf5\n",
      "\n",
      "Epoch 00013: val_loss improved from 0.02780 to 0.02762, saving model to ./model\\13-0.0276.hdf5\n",
      "\n",
      "Epoch 00014: val_loss did not improve from 0.02762\n",
      "\n",
      "Epoch 00015: val_loss did not improve from 0.02762\n",
      "\n",
      "Epoch 00016: val_loss did not improve from 0.02762\n",
      "\n",
      "Epoch 00017: val_loss did not improve from 0.02762\n",
      "\n",
      "Epoch 00018: val_loss did not improve from 0.02762\n",
      "\n",
      "Epoch 00019: val_loss did not improve from 0.02762\n",
      "\n",
      "Epoch 00020: val_loss did not improve from 0.02762\n",
      "\n",
      "Epoch 00021: val_loss did not improve from 0.02762\n",
      "\n",
      "Epoch 00022: val_loss did not improve from 0.02762\n",
      "\n",
      "Epoch 00023: val_loss did not improve from 0.02762\n"
     ]
    }
   ],
   "source": [
    "#모델의 실행모델의 실행\n",
    "history = model.fit(x_train, y_train,\n",
    "                   validation_data=(x_test, y_test),\n",
    "                   epochs=30, batch_size=200, verbose=0,#여기서는 안찍힐것\n",
    "                   callbacks=[early_stopping, checkpointer])"
   ]
  },
  {
   "cell_type": "code",
   "execution_count": 16,
   "metadata": {},
   "outputs": [
    {
     "name": "stdout",
     "output_type": "stream",
     "text": [
      "313/313 [==============================] - 2s 4ms/step - loss: 0.0296 - accuracy: 0.9921\n",
      "\n",
      " Test Accuracy: 0.9921\n"
     ]
    }
   ],
   "source": [
    "#테스트 정확도 출력\n",
    "print(\"\\n Test Accuracy: %.4f\" % (model.evaluate(x_test, y_test)[1]))"
   ]
  },
  {
   "cell_type": "code",
   "execution_count": 18,
   "metadata": {},
   "outputs": [],
   "source": [
    "#테스트 셋의 오차\n",
    "y_vloss=history.history['val_loss']"
   ]
  },
  {
   "cell_type": "code",
   "execution_count": 19,
   "metadata": {},
   "outputs": [],
   "source": [
    "#학습셋의 오차\n",
    "y_loss = history.history['loss']"
   ]
  },
  {
   "cell_type": "code",
   "execution_count": 20,
   "metadata": {},
   "outputs": [
    {
     "data": {
      "image/png": "[encoded data removed]",
      "text/plain": [
       "<Figure size 432x288 with 1 Axes>"
      ]
     },
     "metadata": {
      "needs_background": "light"
     },
     "output_type": "display_data"
    }
   ],
   "source": [
    "#그래프로 표현\n",
    "x_len = np.arange(len(y_loss))\n",
    "plt.plot(x_len, y_vloss, marker='.', c='red', label='Testset_loss')\n",
    "plt.plot(x_len, y_loss, marker='.', c='blue', label='Trainset_loss')\n",
    "#그래프에 그리드를 주고 레이블을 표시\n",
    "plt.legend(loc='upper right')\n",
    "plt.grid()\n",
    "plt.xlabel('epoch')\n",
    "plt.ylabel('loss')\n",
    "plt.show()"
   ]
  },
  {
   "cell_type": "code",
   "execution_count": null,
   "metadata": {},
   "outputs": [],
   "source": []
  }
 ],
 "metadata": {
  "kernelspec": {
   "display_name": "Python 3",
   "language": "python",
   "name": "python3"
  },
  "language_info": {
   "codemirror_mode": {
    "name": "ipython",
    "version": 3
   },
   "file_extension": ".py",
   "mimetype": "text/x-python",
   "name": "python",
   "nbconvert_exporter": "python",
   "pygments_lexer": "ipython3",
   "version": "3.8.5"
  }
 },
 "nbformat": 4,
 "nbformat_minor": 4
}
