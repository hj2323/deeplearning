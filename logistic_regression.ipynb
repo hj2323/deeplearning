{
 "cells": [
  {
   "cell_type": "code",
   "execution_count": 1,
   "metadata": {},
   "outputs": [],
   "source": [
    "import numpy as np\n",
    "import pandas as pd\n",
    "import matplotlib.pyplot as plt"
   ]
  },
  {
   "cell_type": "code",
   "execution_count": 2,
   "metadata": {},
   "outputs": [],
   "source": [
    "data = [[2,0], [4,0], [6,0], [8,1], [10,1], [12,1], [14,1]]"
   ]
  },
  {
   "cell_type": "code",
   "execution_count": 4,
   "metadata": {},
   "outputs": [],
   "source": [
    "x_data = [i[0] for i in data]\n",
    "y_data = [i[1] for i in data]"
   ]
  },
  {
   "cell_type": "code",
   "execution_count": 5,
   "metadata": {},
   "outputs": [
    {
     "data": {
      "text/plain": [
       "(-0.1, 1.1)"
      ]
     },
     "execution_count": 5,
     "metadata": {},
     "output_type": "execute_result"
    },
    {
     "data": {
      "image/png": "[encoded data removed]",
      "text/plain": [
       "<Figure size 432x288 with 1 Axes>"
      ]
     },
     "metadata": {
      "needs_background": "light"
     },
     "output_type": "display_data"
    }
   ],
   "source": [
    "plt.scatter(x_data, y_data)\n",
    "plt.xlim(0,15)\n",
    "plt.ylim(-.1, 1.1)"
   ]
  },
  {
   "cell_type": "code",
   "execution_count": 6,
   "metadata": {},
   "outputs": [],
   "source": [
    "a=0\n",
    "b=0\n",
    "lr=0.05"
   ]
  },
  {
   "cell_type": "code",
   "execution_count": 7,
   "metadata": {},
   "outputs": [],
   "source": [
    "#시그모이드 함수 정의\n",
    "def sigmoid(x):\n",
    "    return 1/(1+np.e**(-x))"
   ]
  },
  {
   "cell_type": "code",
   "execution_count": 14,
   "metadata": {},
   "outputs": [
    {
     "name": "stdout",
     "output_type": "stream",
     "text": [
      "epochs=0, 기울기=1.9068, 절편=-12.9513\n",
      "epochs=0, 기울기=1.9058, 절편=-12.9515\n",
      "epochs=0, 기울기=1.8518, 절편=-12.9605\n",
      "epochs=0, 기울기=1.9060, 절편=-12.9537\n",
      "epochs=0, 기울기=1.9071, 절편=-12.9536\n",
      "epochs=0, 기울기=1.9071, 절편=-12.9536\n",
      "epochs=0, 기울기=1.9071, 절편=-12.9536\n",
      "epochs=1000, 기울기=2.1840, 절편=-14.9583\n",
      "epochs=1000, 기울기=2.1836, 절편=-14.9584\n",
      "epochs=1000, 기울기=2.1431, 절편=-14.9652\n",
      "epochs=1000, 기울기=2.1837, 절편=-14.9601\n",
      "epochs=1000, 기울기=2.1842, 절편=-14.9601\n",
      "epochs=1000, 기울기=2.1843, 절편=-14.9601\n",
      "epochs=1000, 기울기=2.1843, 절편=-14.9601\n",
      "epochs=2000, 기울기=2.3969, 절편=-16.4872\n",
      "epochs=2000, 기울기=2.3967, 절편=-16.4873\n",
      "epochs=2000, 기울기=2.3642, 절편=-16.4927\n",
      "epochs=2000, 기울기=2.3968, 절편=-16.4886\n",
      "epochs=2000, 기울기=2.3971, 절편=-16.4886\n",
      "epochs=2000, 기울기=2.3971, 절편=-16.4886\n",
      "epochs=2000, 기울기=2.3971, 절편=-16.4886\n"
     ]
    }
   ],
   "source": [
    "for i in range(2001):\n",
    "    for x_data, y_data in data:\n",
    "        a_diff = x_data*(sigmoid(a*x_data+b)-y_data)\n",
    "        b_diff = sigmoid(a*x_data+b)-y_data\n",
    "        a = a - lr * a_diff\n",
    "        b = b - lr * b_diff\n",
    "        if i % 1000 == 0:\n",
    "            print('epochs=%.f, 기울기=%.04f, 절편=%.04f' %(i,a,b))\n",
    "#ctrl+shift+-\n",
    "#소스 코드 분리"
   ]
  },
  {
   "cell_type": "code",
   "execution_count": 16,
   "metadata": {},
   "outputs": [
    {
     "data": {
      "image/png": "[encoded data removed]",
      "text/plain": [
       "<Figure size 432x288 with 1 Axes>"
      ]
     },
     "metadata": {
      "needs_background": "light"
     },
     "output_type": "display_data"
    }
   ],
   "source": [
    "x_data = [i[0] for i in data]\n",
    "y_data = [i[1] for i in data]\n",
    "\n",
    "plt.scatter(x_data,y_data)\n",
    "plt.xlim(0,15)\n",
    "plt.ylim(-.1, 1.1)\n",
    "x_range = (np.arange(0,15,0.1))#그래프로 나타낼 x값의 범위 정하기의 범위 정하기\n",
    "plt.plot(np.arange(0,15,0.1), np.array([sigmoid(a*x+b) for x in x_range]))\n",
    "plt.show() "
   ]
  },
  {
   "cell_type": "code",
   "execution_count": null,
   "metadata": {},
   "outputs": [],
   "source": []
  }
 ],
 "metadata": {
  "kernelspec": {
   "display_name": "Python 3",
   "language": "python",
   "name": "python3"
  },
  "language_info": {
   "codemirror_mode": {
    "name": "ipython",
    "version": 3
   },
   "file_extension": ".py",
   "mimetype": "text/x-python",
   "name": "python",
   "nbconvert_exporter": "python",
   "pygments_lexer": "ipython3",
   "version": "3.8.5"
  }
 },
 "nbformat": 4,
 "nbformat_minor": 4
}
