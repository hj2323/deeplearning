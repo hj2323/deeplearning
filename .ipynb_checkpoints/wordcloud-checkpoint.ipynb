{
 "cells": [
  {
   "cell_type": "code",
   "execution_count": 2,
   "metadata": {},
   "outputs": [
    {
     "name": "stdout",
     "output_type": "stream",
     "text": [
      "Collecting pygame\n",
      "  Downloading pygame-2.0.1-cp38-cp38-win_amd64.whl (5.2 MB)\n",
      "Installing collected packages: pygame\n",
      "Successfully installed pygame-2.0.1\n"
     ]
    }
   ],
   "source": [
    "!pip install pygame"
   ]
  },
  {
   "cell_type": "code",
   "execution_count": 3,
   "metadata": {},
   "outputs": [
    {
     "name": "stdout",
     "output_type": "stream",
     "text": [
      "Collecting pytagcloud\n",
      "  Downloading pytagcloud-0.3.5.tar.gz (754 kB)\n",
      "Building wheels for collected packages: pytagcloud\n",
      "  Building wheel for pytagcloud (setup.py): started\n",
      "  Building wheel for pytagcloud (setup.py): finished with status 'done'\n",
      "  Created wheel for pytagcloud: filename=pytagcloud-0.3.5-py3-none-any.whl size=759873 sha256=bca0c15003160420f629f5645b983ac02266af4f0472f7e66f37a398d094d73a\n",
      "  Stored in directory: c:\\users\\hjand\\appdata\\local\\pip\\cache\\wheels\\be\\9b\\7d\\911eafd2b3a1ab76aafb0d5929e7aede8db74f5436af7a2b9e\n",
      "Successfully built pytagcloud\n",
      "Installing collected packages: pytagcloud\n",
      "Successfully installed pytagcloud-0.3.5\n"
     ]
    }
   ],
   "source": [
    "!pip install pytagcloud"
   ]
  },
  {
   "cell_type": "code",
   "execution_count": 4,
   "metadata": {},
   "outputs": [
    {
     "name": "stdout",
     "output_type": "stream",
     "text": [
      "Collecting simplejson\n",
      "  Downloading simplejson-3.17.2.tar.gz (83 kB)\n",
      "Building wheels for collected packages: simplejson\n",
      "  Building wheel for simplejson (setup.py): started\n",
      "  Building wheel for simplejson (setup.py): finished with status 'done'\n",
      "  Created wheel for simplejson: filename=simplejson-3.17.2-py3-none-any.whl size=55464 sha256=4e07198abd0aa2749404d9429b277e3a27125e39663f754024f66ec91d8786fb\n",
      "  Stored in directory: c:\\users\\hjand\\appdata\\local\\pip\\cache\\wheels\\17\\72\\7d\\df0984c925921e22322ea462a6f861e9d0617881192deb9b8d\n",
      "Successfully built simplejson\n",
      "Installing collected packages: simplejson\n",
      "Successfully installed simplejson-3.17.2\n"
     ]
    }
   ],
   "source": [
    "!pip install simplejson"
   ]
  },
  {
   "cell_type": "code",
   "execution_count": 5,
   "metadata": {},
   "outputs": [
    {
     "name": "stdout",
     "output_type": "stream",
     "text": [
      "pygame 2.0.1 (SDL 2.0.14, Python 3.8.5)\n",
      "Hello from the pygame community. https://www.pygame.org/contribute.html\n"
     ]
    }
   ],
   "source": [
    "from collections import Counter # 단어들을 집계하기 위해서 사용\n",
    "from konlpy.tag import Okt # 형태소 분석기\n",
    "import pytagcloud #pygame 패키지에 의존적, pygame 설치 요구"
   ]
  },
  {
   "cell_type": "code",
   "execution_count": 7,
   "metadata": {
    "collapsed": true,
    "jupyter": {
     "outputs_hidden": true
    }
   },
   "outputs": [
    {
     "data": {
      "text/plain": [
       "\"‘가장 일하고 싶은 나라’ 선호도, 한국이 북유럽 국가 앞선다\\n기사입력 2021.03.17. 오전 10:16 최종수정 2021.03.17. 오전 10:33 기사원문 스크랩 본문듣기  설정\\n화나요 좋아요 좋아요 평가하기696 댓글570\\n요약봇\\n \\n글자 크기 변경하기\\n 인쇄하기 \\n보내기\\n‘부동의 1위’ 미국 선호도 하락…캐나다에 밀려\\n한국, 톱10엔 못 들었지만 12계단 상승해 12위\\n“코로나19 감염률 억제한 나라 선호도 높아져”\\n\\n코로나19 이후 ‘가장 일하고 싶은 나라’ 순위에 큰 변화가 일어났다. 픽사베이\\n\\n\\n이것도 코로나19의 영향일까? 미국이 `가장 일하고 싶은 나라' 부동의 1위 자리에서 밀려났다. 한국은 `가장 일하고 싶은 나라' 상위 10위에는 들지 못했지만, 12계단 상승하며 그에 바싹 다가섰다.\\n\\n국제컨설팅업체 보스턴컨설팅그룹(BCG)이 최근 발표한 `세계 인재 분석'(Decoding Global Talent) 보고서에 따르면, 캐나다가 세계인들이 뽑은 ‘가장 일하고 싶어하는 나라’에서 미국을 제치고 1위에 올랐다.\\n\\n보고서는 캐나다가 미국과 같은 영어권인데다 사회 시스템은 개방적이면서 미국에 비해 강력한 코로나 대응책을 펼쳐온 것이 영향을 미친 것으로 분석했다. 미국은 트럼프 대통령 집권 기간 동안 펼친 자국 우선주의, 이민제한 정책에 이어 지난해 코로나 대응에 소극적이었던 것이 평판에 나쁜 영향을 끼쳐 선호도가 하락한 것으로 보인다고 보고서는 지적했다. 이번 보고서는 지난해에 190개국 20만9천명을 대상으로 실시한 설문조사 결과를 분석한 것이다. BCG는 2014년, 2018년에 이어 이번에 세번째로 보고서를 냈다.\\n\\n\\n\\n\\n_______\\n\\n언어장벽 높은 한국 순위 급등, 코로나 대응 영향인듯\\n\\n보고서는 “코로나19 팬데믹이 해외근무에 대한 태도에 큰 영향을 끼쳤으며, 적극적으로 코로나 바이러스 확산 억제 정책을 펼친 나라에 대한 선호도가 높아졌다”고 밝혔다.\\n\\n한국은 전체 순위에선 12위로 톱10에는 진입하지 못했다. 하지만 2018년 24위, 2014년 37위에 비해 순위가 크게 상승했다. 지역별, 직업별 응답 분포에선 아시아태평양지역과 블루칼라 그룹이 각각 6위, 9위로 한국을 선호도 톱10에 올려놨다. 보고서는 “이는 한국어라는 언어장벽을 고려할 때 주목할 만한 현상이며, 응답자들이 코로나19 이후 공중보건에 큰 비중을 두고 있다는 걸 말해준다”고 분석했다.\\n\\n\\n한국의 순위 상승폭이 말레이시아에 이어 2번째로 크다.\\n\\n\\n_______\\n\\n코로나 국면에 해외취업 선호도는 전체적으로 하락\\n\\n실제로 `일하고 싶은 나라' 상위 10위에 오른 나라들은 상대적으로 인구 대비 코로나19 감염률이 낮다. 특히 이번에 새로 10위권에 진입한 싱가포르(8위), 뉴질랜드(10위)는 강력한 방역 대책으로 주목받은 나라들이다. 반면 초기 방역에 실패했던 유럽에선 이전에 상위 10위권에 들었던 이탈리아, 스페인 두 나라가 이번에 10위권 밖으로 밀려났다. 독일과 프랑스는 톱10을 유지하기는 했지만 순위는 두계단씩 하락했다.\\n\\n이와 함께 코로나19의 영향으로 해외취업에 대한 선호도도 전반적으로 감소했다. 해외 취업 의사가 있다고 밝힌 응답자의 비율은 약 50%로, 2014년의 64%, 2018년의 57%보다 낮았다. 특히 아시아권 응답자들의 해외 취업 선호도가 크게 줄었다. 타이의 경우 2014년 95%에서 이번엔 46%로 크게 감소했다.\\n\\n\\nIT 및 기술직 경력자들의 원격 해외취업 선호도는 67%로 매우 높았다. BCG 보고서\\n\\n\\n_______\\n\\n원격근무 가능하다면 미국이 여전히 1위\\n\\nBCG 선임파트너인 레이너 스트랙(Rainer Strack)은 “이주 제한 정책들이 이미 해외 이동성을 약화시킨 데 이어 코로나가 사람들이 해외 이주를 조심스럽게 접근하게 하는 새로운 변수가 됐다”고 말했다. 그는 또 “많은 이들이 원격근무의 확산으로 해외로 직접 이동하지 않고도 경력을 쌓을 수 있다고 생각하는 것으로 보인다”고 말했다.\\n\\n그러나 외국 기업에 취업하되 일은 자국에서 하는 원격근무를 전제로 할 경우엔 미국이 여전히 1위였다. 원격 해외근무 의향이 있다고 답변한 비율은 57%로 전체 해외근무 선호도 50%보다 다소 높았다. 특히 IT와 테크놀로지 경력자들은 이 비율이 67%로 더 높았다.\\n\\n\\n\\n\\n_______\\n\\n가장 일하고 싶은 도시 1위는 런던…서울 15위로 첫 ‘톱30’에\\n\\n미국이 가장 일하고 싶은 나라 부동의 1위였다면, 가장 일하고 싶은 도시 만년 1위는 런던이다. 보고서는 “이는 영연방이라는 후광 덕분”이라고 지적했다. 런던은 이번 조사에서도 브렉시트(유럽연합 탈퇴)라는 지정학적 불확실성에도 불구하고 변함없이 1위를 고수했다.\\n\\n일하고 싶은 도시 순위에선 상위 10개 도시 중 4개를 차지한 아시아 도시들의 약진이 두드러졌다. 특히 중동의 허브, 세계 최고의 스마트도시를 꿈꾸는 아랍에미리트의 두바이와 아부다비가 각각 3위, 5위를 차지했다. 이전 조사때보다 각각 3계단, 9계단 올라섰다. 아랍에미리트는 석유경제 이후를 대비해 2000년 이후 첨단기술 투자를 크게 확대하고 있다. 지난해엔 중동 국가에선 처음으로 화성행 우주선을 쏘아올려 주목을 받았다. 도쿄와 싱가포르도 4계단, 8계단이 오른 6위, 7위를 차지했다.\\n\\n이전 조사에서 30위권에도 들지 못했던 서울이 15위에 이름을 올린 것도 눈길을 끈다. 톱5위에 속했던 뉴욕과 바르셀로나의 선호도는 8위, 9위로 떨어졌다.\\n\\n특이한 것은 `가장 일하고 싶은 나라' 1위 캐나다 도시 중 톱10에 든 도시가 하나도 없다는 점이다. 캐나다에서 가장 선호도가 높은 도시는 토론토로, 서울보다 한 계단 앞선 14위였다.\\n\\n곽노필 선임기자 nopil@hani.co.kr\\n\\n▶더불어 행복한 세상을 만드는 언론, 한겨레 구독하세요!\\n▶esc 기사 보기▶4.7 보궐선거 기사 보기\""
      ]
     },
     "execution_count": 7,
     "metadata": {},
     "output_type": "execute_result"
    }
   ],
   "source": [
    "f=open(\"c:/chj/data/test.txt\",encoding='utf-8')\n",
    "data=f.read()\n",
    "#data"
   ]
  },
  {
   "cell_type": "code",
   "execution_count": 10,
   "metadata": {},
   "outputs": [],
   "source": [
    "npl=Okt() # 형태소 분석기 Okt 생성,Kkma, Mecab-kr, HanNum 등\n",
    "nouns=npl.nouns(data) # 형태소 분석기로 단어 추출\n",
    "#nouns"
   ]
  },
  {
   "cell_type": "code",
   "execution_count": 13,
   "metadata": {},
   "outputs": [],
   "source": [
    "count=Counter(nouns) # 단어 집계\n",
    "#count"
   ]
  },
  {
   "cell_type": "code",
   "execution_count": 15,
   "metadata": {},
   "outputs": [
    {
     "data": {
      "text/plain": [
       "[{'color': (13, 59, 161), 'size': 95, 'tag': '위'},\n",
       " {'color': (79, 220, 21), 'size': 50, 'tag': '나라'},\n",
       " {'color': (100, 206, 51), 'size': 50, 'tag': '코로나'},\n",
       " {'color': (215, 36, 120), 'size': 47, 'tag': '일'},\n",
       " {'color': (37, 142, 216), 'size': 44, 'tag': '해외'},\n",
       " {'color': (42, 53, 146), 'size': 41, 'tag': '가장'},\n",
       " {'color': (196, 112, 24), 'size': 38, 'tag': '미국'},\n",
       " {'color': (171, 140, 73), 'size': 38, 'tag': '것'},\n",
       " {'color': (97, 85, 18), 'size': 38, 'tag': '보고서'},\n",
       " {'color': (110, 150, 179), 'size': 38, 'tag': '도시'},\n",
       " {'color': (190, 32, 157), 'size': 34, 'tag': '계단'},\n",
       " {'color': (112, 38, 29), 'size': 31, 'tag': '한국'},\n",
       " {'color': (220, 108, 52), 'size': 31, 'tag': '톱'},\n",
       " {'color': (166, 33, 113), 'size': 31, 'tag': '순위'},\n",
       " {'color': (57, 45, 47), 'size': 31, 'tag': '선'},\n",
       " {'color': (162, 162, 210), 'size': 31, 'tag': '호도'},\n",
       " {'color': (139, 178, 28), 'size': 28, 'tag': '선호'},\n",
       " {'color': (88, 115, 14), 'size': 28, 'tag': '영향'},\n",
       " {'color': (134, 62, 135), 'size': 28, 'tag': '이번'},\n",
       " {'color': (220, 50, 124), 'size': 28, 'tag': '근무'}]"
      ]
     },
     "execution_count": 15,
     "metadata": {},
     "output_type": "execute_result"
    }
   ],
   "source": [
    "tag2=count.most_common(20) # 상위 20개만 추출\n",
    "taglist=pytagcloud.make_tags(tag2,maxsize=80) # tag2데이터로 태그 생성\n",
    "taglist"
   ]
  },
  {
   "cell_type": "code",
   "execution_count": 16,
   "metadata": {},
   "outputs": [],
   "source": [
    "f.close()"
   ]
  },
  {
   "cell_type": "code",
   "execution_count": 19,
   "metadata": {},
   "outputs": [
    {
     "ename": "AttributeError",
     "evalue": "Invalid font name. Should be one of Nobile, Old Standard TT, Cantarell, Reenie Beanie, Cuprum, Molengo, Neucha, Philosopher, Yanone Kaffeesatz, Cardo, Neuton, Inconsolata, Crimson Text, Josefin Sans, Droid Sans, Lobster, IM Fell DW Pica, Vollkorn, Tangerine, Coustard, PT Sans Regular",
     "output_type": "error",
     "traceback": [
      "\u001b[1;31m---------------------------------------------------------------------------\u001b[0m",
      "\u001b[1;31mAttributeError\u001b[0m                            Traceback (most recent call last)",
      "\u001b[1;32m<ipython-input-19-09f12c33d3d2>\u001b[0m in \u001b[0;36m<module>\u001b[1;34m\u001b[0m\n\u001b[1;32m----> 1\u001b[1;33m pytagcloud.create_tag_image(taglist, 'c:/chj/data/wordcloud.jpg', size=(900, 600),\n\u001b[0m\u001b[0;32m      2\u001b[0m fontname='Korean', rectangular=False)\n",
      "\u001b[1;32mC:\\devtool\\anaconda\\lib\\site-packages\\pytagcloud\\__init__.py\u001b[0m in \u001b[0;36mcreate_tag_image\u001b[1;34m(tags, output, size, background, layout, fontname, rectangular)\u001b[0m\n\u001b[0;32m    338\u001b[0m         \u001b[1;32mreturn\u001b[0m\u001b[1;33m\u001b[0m\u001b[1;33m\u001b[0m\u001b[0m\n\u001b[0;32m    339\u001b[0m \u001b[1;33m\u001b[0m\u001b[0m\n\u001b[1;32m--> 340\u001b[1;33m     sizeRect, tag_store = _draw_cloud(tags,\n\u001b[0m\u001b[0;32m    341\u001b[0m                                       \u001b[0mlayout\u001b[0m\u001b[1;33m,\u001b[0m\u001b[1;33m\u001b[0m\u001b[1;33m\u001b[0m\u001b[0m\n\u001b[0;32m    342\u001b[0m                                       \u001b[0msize\u001b[0m\u001b[1;33m=\u001b[0m\u001b[0msize\u001b[0m\u001b[1;33m,\u001b[0m\u001b[1;33m\u001b[0m\u001b[1;33m\u001b[0m\u001b[0m\n",
      "\u001b[1;32mC:\\devtool\\anaconda\\lib\\site-packages\\pytagcloud\\__init__.py\u001b[0m in \u001b[0;36m_draw_cloud\u001b[1;34m(tag_list, layout, size, fontname, rectangular)\u001b[0m\n\u001b[0;32m    273\u001b[0m     \u001b[0marea\u001b[0m \u001b[1;33m=\u001b[0m \u001b[1;36m0\u001b[0m\u001b[1;33m\u001b[0m\u001b[1;33m\u001b[0m\u001b[0m\n\u001b[0;32m    274\u001b[0m     \u001b[1;32mfor\u001b[0m \u001b[0mtag\u001b[0m \u001b[1;32min\u001b[0m \u001b[0mtag_list\u001b[0m\u001b[1;33m:\u001b[0m\u001b[1;33m\u001b[0m\u001b[1;33m\u001b[0m\u001b[0m\n\u001b[1;32m--> 275\u001b[1;33m         \u001b[0mtag_sprite\u001b[0m \u001b[1;33m=\u001b[0m \u001b[0mTag\u001b[0m\u001b[1;33m(\u001b[0m\u001b[0mtag\u001b[0m\u001b[1;33m,\u001b[0m \u001b[1;33m(\u001b[0m\u001b[1;36m0\u001b[0m\u001b[1;33m,\u001b[0m \u001b[1;36m0\u001b[0m\u001b[1;33m)\u001b[0m\u001b[1;33m,\u001b[0m \u001b[0mfontname\u001b[0m\u001b[1;33m=\u001b[0m\u001b[0mfontname\u001b[0m\u001b[1;33m)\u001b[0m\u001b[1;33m\u001b[0m\u001b[1;33m\u001b[0m\u001b[0m\n\u001b[0m\u001b[0;32m    276\u001b[0m         \u001b[0marea\u001b[0m \u001b[1;33m+=\u001b[0m \u001b[0mtag_sprite\u001b[0m\u001b[1;33m.\u001b[0m\u001b[0mmask\u001b[0m\u001b[1;33m.\u001b[0m\u001b[0mcount\u001b[0m\u001b[1;33m(\u001b[0m\u001b[1;33m)\u001b[0m\u001b[1;33m\u001b[0m\u001b[1;33m\u001b[0m\u001b[0m\n\u001b[0;32m    277\u001b[0m         \u001b[0mtag_sprites\u001b[0m\u001b[1;33m.\u001b[0m\u001b[0mappend\u001b[0m\u001b[1;33m(\u001b[0m\u001b[0mtag_sprite\u001b[0m\u001b[1;33m)\u001b[0m\u001b[1;33m\u001b[0m\u001b[1;33m\u001b[0m\u001b[0m\n",
      "\u001b[1;32mC:\\devtool\\anaconda\\lib\\site-packages\\pytagcloud\\__init__.py\u001b[0m in \u001b[0;36m__init__\u001b[1;34m(self, tag, initial_position, fontname)\u001b[0m\n\u001b[0;32m     57\u001b[0m         \u001b[0mself\u001b[0m\u001b[1;33m.\u001b[0m\u001b[0mrotation\u001b[0m \u001b[1;33m=\u001b[0m \u001b[1;36m0\u001b[0m\u001b[1;33m\u001b[0m\u001b[1;33m\u001b[0m\u001b[0m\n\u001b[0;32m     58\u001b[0m \u001b[1;33m\u001b[0m\u001b[0m\n\u001b[1;32m---> 59\u001b[1;33m         \u001b[0mself\u001b[0m\u001b[1;33m.\u001b[0m\u001b[0mfont_spec\u001b[0m \u001b[1;33m=\u001b[0m \u001b[0mload_font\u001b[0m\u001b[1;33m(\u001b[0m\u001b[0mfontname\u001b[0m\u001b[1;33m)\u001b[0m\u001b[1;33m\u001b[0m\u001b[1;33m\u001b[0m\u001b[0m\n\u001b[0m\u001b[0;32m     60\u001b[0m         self.font = font.Font(os.path.join(FONT_DIR,\n\u001b[0;32m     61\u001b[0m                                            self.font_spec['ttf']),\n",
      "\u001b[1;32mC:\\devtool\\anaconda\\lib\\site-packages\\pytagcloud\\__init__.py\u001b[0m in \u001b[0;36mload_font\u001b[1;34m(name)\u001b[0m\n\u001b[0;32m     99\u001b[0m         \u001b[1;32mif\u001b[0m \u001b[0mfont\u001b[0m\u001b[1;33m[\u001b[0m\u001b[1;34m'name'\u001b[0m\u001b[1;33m]\u001b[0m \u001b[1;33m==\u001b[0m \u001b[0mname\u001b[0m\u001b[1;33m:\u001b[0m\u001b[1;33m\u001b[0m\u001b[1;33m\u001b[0m\u001b[0m\n\u001b[0;32m    100\u001b[0m             \u001b[1;32mreturn\u001b[0m \u001b[0mfont\u001b[0m\u001b[1;33m\u001b[0m\u001b[1;33m\u001b[0m\u001b[0m\n\u001b[1;32m--> 101\u001b[1;33m     raise AttributeError('Invalid font name. Should be one of %s' % \n\u001b[0m\u001b[0;32m    102\u001b[0m                          \", \".join([f['name'] for f in FONT_CACHE]))\n\u001b[0;32m    103\u001b[0m \u001b[1;33m\u001b[0m\u001b[0m\n",
      "\u001b[1;31mAttributeError\u001b[0m: Invalid font name. Should be one of Nobile, Old Standard TT, Cantarell, Reenie Beanie, Cuprum, Molengo, Neucha, Philosopher, Yanone Kaffeesatz, Cardo, Neuton, Inconsolata, Crimson Text, Josefin Sans, Droid Sans, Lobster, IM Fell DW Pica, Vollkorn, Tangerine, Coustard, PT Sans Regular"
     ]
    }
   ],
   "source": [
    "pytagcloud.create_tag_image(taglist, 'c:/chj/data/wordcloud.jpg', size=(900, 600),\n",
    "fontname='Korean', rectangular=False)"
   ]
  },
  {
   "cell_type": "code",
   "execution_count": null,
   "metadata": {},
   "outputs": [],
   "source": []
  }
 ],
 "metadata": {
  "kernelspec": {
   "display_name": "Python 3",
   "language": "python",
   "name": "python3"
  },
  "language_info": {
   "codemirror_mode": {
    "name": "ipython",
    "version": 3
   },
   "file_extension": ".py",
   "mimetype": "text/x-python",
   "name": "python",
   "nbconvert_exporter": "python",
   "pygments_lexer": "ipython3",
   "version": "3.8.5"
  }
 },
 "nbformat": 4,
 "nbformat_minor": 4
}
