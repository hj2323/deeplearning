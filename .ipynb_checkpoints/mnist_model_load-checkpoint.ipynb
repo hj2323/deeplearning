{
 "cells": [
  {
   "cell_type": "code",
   "execution_count": 6,
   "metadata": {},
   "outputs": [],
   "source": [
    "from keras.models import load_model\n",
    "loaded = load_model(\"./model/01-0.1475.hdf5\")"
   ]
  },
  {
   "cell_type": "code",
   "execution_count": 18,
   "metadata": {},
   "outputs": [],
   "source": [
    "from keras.datasets import mnist\n",
    "from keras.utils import np_utils\n",
    "(x_train, y_train), (x_test,y_test) = mnist.load_data()\n",
    "x_train = x_train.reshape(x_train.shape[0],784).astype('float64')/255\n",
    "x_test = x_test.reshape(x_test.shape[0],784).astype('float64')/255\n",
    "y_train = np_utils.to_categorical(y_train,10)\n",
    "y_test = np_utils.to_categorical(y_test,10)"
   ]
  },
  {
   "cell_type": "code",
   "execution_count": 19,
   "metadata": {},
   "outputs": [],
   "source": [
    "import numpy as np\n",
    "x1=np.array([x_test[0]])"
   ]
  },
  {
   "cell_type": "code",
   "execution_count": 20,
   "metadata": {},
   "outputs": [
    {
     "data": {
      "text/plain": [
       "(1, 784)"
      ]
     },
     "execution_count": 20,
     "metadata": {},
     "output_type": "execute_result"
    }
   ],
   "source": [
    "x1.shape"
   ]
  },
  {
   "cell_type": "code",
   "execution_count": 21,
   "metadata": {},
   "outputs": [],
   "source": [
    "result=loaded.predict(x1)"
   ]
  },
  {
   "cell_type": "code",
   "execution_count": 22,
   "metadata": {},
   "outputs": [
    {
     "data": {
      "text/plain": [
       "array([[4.3028431e-05, 4.4022656e-07, 7.2524388e-04, 3.7141163e-03,\n",
       "        1.3785324e-06, 1.5888433e-04, 5.1220688e-08, 9.9492645e-01,\n",
       "        3.0146937e-05, 4.0031516e-04]], dtype=float32)"
      ]
     },
     "execution_count": 22,
     "metadata": {},
     "output_type": "execute_result"
    }
   ],
   "source": [
    "result"
   ]
  },
  {
   "cell_type": "code",
   "execution_count": 23,
   "metadata": {},
   "outputs": [
    {
     "data": {
      "text/plain": [
       "7"
      ]
     },
     "execution_count": 23,
     "metadata": {},
     "output_type": "execute_result"
    }
   ],
   "source": [
    "np.argmax(result)#result에서 제일 큰값 index"
   ]
  },
  {
   "cell_type": "code",
   "execution_count": 24,
   "metadata": {},
   "outputs": [
    {
     "data": {
      "text/plain": [
       "array([0., 0., 0., 0., 0., 0., 0., 1., 0., 0.], dtype=float32)"
      ]
     },
     "execution_count": 24,
     "metadata": {},
     "output_type": "execute_result"
    }
   ],
   "source": [
    "y_test[0]"
   ]
  },
  {
   "cell_type": "code",
   "execution_count": 25,
   "metadata": {},
   "outputs": [],
   "source": [
    "import numpy as np\n",
    "import matplotlib.pyplot as plt"
   ]
  },
  {
   "cell_type": "code",
   "execution_count": 26,
   "metadata": {},
   "outputs": [
    {
     "name": "stdout",
     "output_type": "stream",
     "text": [
      "[2732 9845 3264 4859 9225 7891 4373 5874 6744 3468]\n"
     ]
    }
   ],
   "source": [
    "#랜덤하게 몇 가지 data 가져오기\n",
    "n_test = len(x_test)\n",
    "random_pick = np.random.randint(low=0, high=n_test, size=10)\n",
    "print(random_pick)"
   ]
  },
  {
   "cell_type": "code",
   "execution_count": 29,
   "metadata": {},
   "outputs": [
    {
     "data": {
      "image/png": "[encoded data removed]",
      "text/plain": [
       "<Figure size 864x360 with 10 Axes>"
      ]
     },
     "metadata": {
      "needs_background": "light"
     },
     "output_type": "display_data"
    }
   ],
   "source": [
    "figure = plt.figure()\n",
    "figure.set_size_inches(12, 5)\n",
    "\n",
    "axes=[]#축에대한 정보\n",
    "for i in range(1,11):#10번 반복\n",
    "    axes.append(figure.add_subplot(2,5,i))#2행에 5열\n",
    "    \n",
    "tmp_list=[]\n",
    "for i in range(10):\n",
    "    tmp = x_test[random_pick[i]]\n",
    "    tmp = tmp.reshape(-1, 28)\n",
    "    tmp_list.append(tmp)\n",
    "\n",
    "print(y_test[random_pick])\n",
    "\n",
    "for i in range(10):\n",
    "    axes[i].matshow(tmp_list[i])"
   ]
  },
  {
   "cell_type": "code",
   "execution_count": 30,
   "metadata": {},
   "outputs": [],
   "source": [
    "import os\n",
    "model_dir = './data'\n",
    "if not os.path.exists(model_dir):\n",
    "    os.mkdir(model_dir)"
   ]
  },
  {
   "cell_type": "code",
   "execution_count": 33,
   "metadata": {},
   "outputs": [
    {
     "name": "stdout",
     "output_type": "stream",
     "text": [
      "[[255 255 255 255 255 255 255 255 255 255 255 255 255 255 255 255 255 255\n",
      "  255 255 255 255 255 255 255 255 255 255 255 255 255 255 255 255 255 255\n",
      "  255 255 255 255 255 255 255 255 255 255 255 255 255 255 255 255 255 255\n",
      "  255 255 255 255 255 255 255 255 255 255 255 255 255 255 255 255 255 255\n",
      "  255 255 255 255 255 255 255 255 255 255 255 255 255 255 255 255 255 255\n",
      "  255 183  32   0   0   0   0  32 159 255 255 255 255 255 255 255 255 255\n",
      "  255 255 255 255 255 255 255 255 255 255 183  16   0   0   0   0   0   0\n",
      "    8 159 255 255 255 255 255 255 255 255 255 255 255 255 255 255 255 255\n",
      "  255 183  16   0   0   0   0   0   0   0   0   8 159 255 255 255 255 255\n",
      "  255 255 255 255 255 255 255 255 255 255 255  32   0   0   0 104 255 255\n",
      "  135   0   0   0   8 255 255 255 255 255 255 255 255 255 255 255 255 255\n",
      "  255 255 255 135   0   0 104 255 255 255 255 135   0   0   0 159 255 255\n",
      "  255 255 255 255 255 255 255 255 255 255 255 255 255 255 255 255 255 255\n",
      "  255 255 255 255   8   0   0   8 255 255 255 255 255 255 255 255 255 255\n",
      "  255 255 255 255 255 255 255 255 255 255 255 255 255 255  96   0   0   0\n",
      "  255 255 255 255 255 255 255 255 255 255 255 255 255 255 255 255 255 255\n",
      "  255 255 255 255 255 183  16   0   0   0 255 255 255 255 255 255 255 255\n",
      "  255 255 255 255 255 255 255 255 255 183  32   0   0   0   0   0   0   0\n",
      "    0 104 255 255 255 255 255 255 255 255 255 255 255 255 255 255 255 255\n",
      "  255  32   0   0   0   0   0   0   0   0  64 255 255 255 255 255 255 255\n",
      "  255 255 255 255 255 255 255 255 255 255 255 135   0   0   0   0   0   0\n",
      "    0   0   8 159 255 255 255 255 255 255 255 255 255 255 255 255 255 255\n",
      "  255 255 255 255 255 255 255 255 135   0   0   0   0   8 159 255 255 255\n",
      "  255 255 255 255 255 255 255 255 255 255 255 255 255 255 255 255 255 255\n",
      "  255 255 135   0   0   0   8 255 255 255 255 255 255 255 255 255 255 255\n",
      "  255 183  64 159 255 255 255 255 255 255 255 255 255 135   0   0   0 255\n",
      "  255 255 255 255 255 255 255 255 255 255 255  24   0   8 255 255 255 255\n",
      "  255 255 255 255 255 255   0   0   0 255 255 255 255 255 255 255 255 255\n",
      "  255 255 255   0   0   0 159 255 255 255 255 255 255 255 255 255   0   0\n",
      "    0 255 255 255 255 255 255 255 255 255 255 255 255   8   0   0   8 159\n",
      "  255 255 255 255 255 255 255 183   0   0   0 255 255 255 255 255 255 255\n",
      "  255 255 255 255 255 135   0   0   0   0   0   0   0   0   0   0   0   0\n",
      "    0   0   0 255 255 255 255 255 255 255 255 255 255 255 255 255 135   0\n",
      "    0   0   0   0   0   0   0   0   0   0   0   0 104 255 255 255 255 255\n",
      "  255 255 255 255 255 255 255 255 255 135   0   0   0   0   0   0   0   0\n",
      "    0   0   0 104 255 255 255 255 255 255 255 255 255 255 255 255 255 255\n",
      "  255 255 255 255 255 255 255 255 255 255 255 255 255 255 255 255 255 255\n",
      "  255 255 255 255 255 255 255 255 255 255 255 255 255 255 255 255 255 255\n",
      "  255 255 255 255 255 255 255 255 255 255 255 255 255 255 255 255 255 255\n",
      "  255 255 255 255 255 255 255 255 255 255 255 255 255 255 255 255 255 255\n",
      "  255 255 255 255 255 255 255 255 255 255 255 255 255 255 255 255 255 255\n",
      "  255 255 255 255 255 255 255 255 255 255 255 255 255 255 255 255 255 255\n",
      "  255 255 255 255 255 255 255 255 255 255 255 255 255 255 255 255 255 255\n",
      "  255 255 255 255 255 255 255 255 255 255]]\n",
      "[[  0   0   0   0   0   0   0   0   0   0   0   0   0   0   0   0   0   0\n",
      "    0   0   0   0   0   0   0   0   0   0   0   0   0   0   0   0   0   0\n",
      "    0   0   0   0   0   0   0   0   0   0   0   0   0   0   0   0   0   0\n",
      "    0   0   0   0   0   0   0   0   0   0   0   0   0   0   0   0   0   0\n",
      "    0   0   0   0   0   0   0   0   0   0   0   0   0   0   0   0   0   0\n",
      "    0  72 223 255 255 255 255 223  96   0   0   0   0   0   0   0   0   0\n",
      "    0   0   0   0   0   0   0   0   0   0  72 239 255 255 255 255 255 255\n",
      "  247  96   0   0   0   0   0   0   0   0   0   0   0   0   0   0   0   0\n",
      "    0  72 239 255 255 255 255 255 255 255 255 247  96   0   0   0   0   0\n",
      "    0   0   0   0   0   0   0   0   0   0   0 223 255 255 255 151   0   0\n",
      "  120 255 255 255 247   0   0   0   0   0   0   0   0   0   0   0   0   0\n",
      "    0   0   0 120 255 255 151   0   0   0   0 120 255 255 255  96   0   0\n",
      "    0   0   0   0   0   0   0   0   0   0   0   0   0   0   0   0   0   0\n",
      "    0   0   0   0 247 255 255 247   0   0   0   0   0   0   0   0   0   0\n",
      "    0   0   0   0   0   0   0   0   0   0   0   0   0   0 159 255 255 255\n",
      "    0   0   0   0   0   0   0   0   0   0   0   0   0   0   0   0   0   0\n",
      "    0   0   0   0   0  72 239 255 255 255   0   0   0   0   0   0   0   0\n",
      "    0   0   0   0   0   0   0   0   0  72 223 255 255 255 255 255 255 255\n",
      "  255 151   0   0   0   0   0   0   0   0   0   0   0   0   0   0   0   0\n",
      "    0 223 255 255 255 255 255 255 255 255 191   0   0   0   0   0   0   0\n",
      "    0   0   0   0   0   0   0   0   0   0   0 120 255 255 255 255 255 255\n",
      "  255 255 247  96   0   0   0   0   0   0   0   0   0   0   0   0   0   0\n",
      "    0   0   0   0   0   0   0   0 120 255 255 255 255 247  96   0   0   0\n",
      "    0   0   0   0   0   0   0   0   0   0   0   0   0   0   0   0   0   0\n",
      "    0   0 120 255 255 255 247   0   0   0   0   0   0   0   0   0   0   0\n",
      "    0  72 191  96   0   0   0   0   0   0   0   0   0 120 255 255 255   0\n",
      "    0   0   0   0   0   0   0   0   0   0   0 231 255 247   0   0   0   0\n",
      "    0   0   0   0   0   0 255 255 255   0   0   0   0   0   0   0   0   0\n",
      "    0   0   0 255 255 255  96   0   0   0   0   0   0   0   0   0 255 255\n",
      "  255   0   0   0   0   0   0   0   0   0   0   0   0 247 255 255 247  96\n",
      "    0   0   0   0   0   0   0  72 255 255 255   0   0   0   0   0   0   0\n",
      "    0   0   0   0   0 120 255 255 255 255 255 255 255 255 255 255 255 255\n",
      "  255 255 255   0   0   0   0   0   0   0   0   0   0   0   0   0 120 255\n",
      "  255 255 255 255 255 255 255 255 255 255 255 255 151   0   0   0   0   0\n",
      "    0   0   0   0   0   0   0   0   0 120 255 255 255 255 255 255 255 255\n",
      "  255 255 255 151   0   0   0   0   0   0   0   0   0   0   0   0   0   0\n",
      "    0   0   0   0   0   0   0   0   0   0   0   0   0   0   0   0   0   0\n",
      "    0   0   0   0   0   0   0   0   0   0   0   0   0   0   0   0   0   0\n",
      "    0   0   0   0   0   0   0   0   0   0   0   0   0   0   0   0   0   0\n",
      "    0   0   0   0   0   0   0   0   0   0   0   0   0   0   0   0   0   0\n",
      "    0   0   0   0   0   0   0   0   0   0   0   0   0   0   0   0   0   0\n",
      "    0   0   0   0   0   0   0   0   0   0   0   0   0   0   0   0   0   0\n",
      "    0   0   0   0   0   0   0   0   0   0   0   0   0   0   0   0   0   0\n",
      "    0   0   0   0   0   0   0   0   0   0]]\n",
      "[[0. 0. 0. 1. 0. 0. 0. 0. 0. 0.]]\n"
     ]
    },
    {
     "data": {
      "image/png": "[encoded data removed]",
      "text/plain": [
       "<Figure size 432x288 with 1 Axes>"
      ]
     },
     "metadata": {
      "needs_background": "light"
     },
     "output_type": "display_data"
    }
   ],
   "source": [
    "import numpy as np\n",
    "import matplotlib.pyplot as plt\n",
    "import glob#확장자를 제한해서 불러올 수 있음\n",
    "from PIL import Image\n",
    "\n",
    "for image_path in glob.glob(\"./data/*.png\"):\n",
    "    img = Image.open(image_path).convert(\"L\")\n",
    "    plt.imshow(img)\n",
    "    img = np.resize(img, (1,784))\n",
    "    print(img)\n",
    "#     img = 255 -(img)\n",
    "#     print(img)\n",
    "#     prediction = loaded.predict(img)\n",
    "#     print(prediction)\n",
    "#     plt.show()"
   ]
  },
  {
   "cell_type": "code",
   "execution_count": null,
   "metadata": {},
   "outputs": [],
   "source": []
  }
 ],
 "metadata": {
  "kernelspec": {
   "display_name": "Python 3",
   "language": "python",
   "name": "python3"
  },
  "language_info": {
   "codemirror_mode": {
    "name": "ipython",
    "version": 3
   },
   "file_extension": ".py",
   "mimetype": "text/x-python",
   "name": "python",
   "nbconvert_exporter": "python",
   "pygments_lexer": "ipython3",
   "version": "3.8.5"
  }
 },
 "nbformat": 4,
 "nbformat_minor": 4
}
