{
 "cells": [
  {
   "cell_type": "code",
   "execution_count": 1,
   "metadata": {},
   "outputs": [],
   "source": [
    "import numpy as np\n",
    "import pandas as pd\n",
    "import matplotlib.pyplot as plt"
   ]
  },
  {
   "cell_type": "code",
   "execution_count": 2,
   "metadata": {},
   "outputs": [],
   "source": [
    "data=[[2,81],[4,93],[6,91],[8,97]]"
   ]
  },
  {
   "cell_type": "code",
   "execution_count": 3,
   "metadata": {},
   "outputs": [],
   "source": [
    "x=[i[0] for i in data]"
   ]
  },
  {
   "cell_type": "code",
   "execution_count": 4,
   "metadata": {},
   "outputs": [
    {
     "data": {
      "text/plain": [
       "[2, 4, 6, 8]"
      ]
     },
     "execution_count": 4,
     "metadata": {},
     "output_type": "execute_result"
    }
   ],
   "source": [
    "x"
   ]
  },
  {
   "cell_type": "code",
   "execution_count": 6,
   "metadata": {},
   "outputs": [],
   "source": [
    "y=[i[1] for i in data]"
   ]
  },
  {
   "cell_type": "code",
   "execution_count": 7,
   "metadata": {},
   "outputs": [
    {
     "data": {
      "text/plain": [
       "[81, 93, 91, 97]"
      ]
     },
     "execution_count": 7,
     "metadata": {},
     "output_type": "execute_result"
    }
   ],
   "source": [
    "y"
   ]
  },
  {
   "cell_type": "code",
   "execution_count": 9,
   "metadata": {},
   "outputs": [
    {
     "data": {
      "image/png": "[encoded data removed]",
      "text/plain": [
       "<Figure size 576x216 with 1 Axes>"
      ]
     },
     "metadata": {
      "needs_background": "light"
     },
     "output_type": "display_data"
    }
   ],
   "source": [
    "plt.figure(figsize=(8,3))\n",
    "plt.scatter(x,y)\n",
    "plt.show()"
   ]
  },
  {
   "cell_type": "code",
   "execution_count": 10,
   "metadata": {},
   "outputs": [],
   "source": [
    "#리스트로 되어 있는 x와 y값을 넘파이 배열로 바꾸기 (인덱스를 주어 하나씩 불러와 계산이 가능하게 위함주어 하나씩 불러와 계산이 가능하게 위함)\n",
    "x_data=np.array(x)"
   ]
  },
  {
   "cell_type": "code",
   "execution_count": 11,
   "metadata": {},
   "outputs": [
    {
     "data": {
      "text/plain": [
       "numpy.ndarray"
      ]
     },
     "execution_count": 11,
     "metadata": {},
     "output_type": "execute_result"
    }
   ],
   "source": [
    "type(x_data)"
   ]
  },
  {
   "cell_type": "code",
   "execution_count": 12,
   "metadata": {},
   "outputs": [
    {
     "data": {
      "text/plain": [
       "(4,)"
      ]
     },
     "execution_count": 12,
     "metadata": {},
     "output_type": "execute_result"
    }
   ],
   "source": [
    "x_data.shape"
   ]
  },
  {
   "cell_type": "code",
   "execution_count": 13,
   "metadata": {},
   "outputs": [],
   "source": [
    "y_data=np.array(y)"
   ]
  },
  {
   "cell_type": "code",
   "execution_count": 14,
   "metadata": {},
   "outputs": [],
   "source": [
    "#기울기 a와 절편 b의 값 초기화 \n",
    "a=0\n",
    "b=0"
   ]
  },
  {
   "cell_type": "code",
   "execution_count": 15,
   "metadata": {},
   "outputs": [],
   "source": [
    "#보통 학습률은 작게 잡는다, 상황에 따라서 조절\n",
    "lr= 0.05"
   ]
  },
  {
   "cell_type": "code",
   "execution_count": 16,
   "metadata": {},
   "outputs": [],
   "source": [
    "#전체데이터를 몇번 반복해서 학습을 시킬거냐 - epochs\n",
    "epochs = 2001"
   ]
  },
  {
   "cell_type": "code",
   "execution_count": 19,
   "metadata": {},
   "outputs": [
    {
     "name": "stdout",
     "output_type": "stream",
     "text": [
      "epoch=0, 기울기=11.6000, 절편=-1.2750\n",
      "epoch=100, 기울기=8.2101, 절편=43.7313\n",
      "epoch=200, 기울기=4.9187, 절편=63.3730\n",
      "epoch=300, 기울기=3.4603, 절편=72.0759\n",
      "epoch=400, 기울기=2.8141, 절편=75.9321\n",
      "epoch=500, 기울기=2.5278, 절편=77.6406\n",
      "epoch=600, 기울기=2.4009, 절편=78.3977\n",
      "epoch=700, 기울기=2.3447, 절편=78.7331\n",
      "epoch=800, 기울기=2.3198, 절편=78.8818\n",
      "epoch=900, 기울기=2.3088, 절편=78.9476\n",
      "epoch=1000, 기울기=2.3039, 절편=78.9768\n",
      "epoch=1100, 기울기=2.3017, 절편=78.9897\n",
      "epoch=1200, 기울기=2.3008, 절편=78.9954\n",
      "epoch=1300, 기울기=2.3003, 절편=78.9980\n",
      "epoch=1400, 기울기=2.3001, 절편=78.9991\n",
      "epoch=1500, 기울기=2.3001, 절편=78.9996\n",
      "epoch=1600, 기울기=2.3000, 절편=78.9998\n",
      "epoch=1700, 기울기=2.3000, 절편=78.9999\n",
      "epoch=1800, 기울기=2.3000, 절편=79.0000\n",
      "epoch=1900, 기울기=2.3000, 절편=79.0000\n",
      "epoch=2000, 기울기=2.3000, 절편=79.0000\n"
     ]
    }
   ],
   "source": [
    "#반복하면서 경사 하강법 시작\n",
    "for i in range(epochs):#epochs수만큼 반복 2000번pochs수만큼 반복 2000번\n",
    "    y_pred = a*x_data+b# 예측값을 구한다.\n",
    "    error = y_data - y_pred #정답값과 예측값사이의 차이 에러를 구한다.\n",
    "    a_diff=-(1/len(x_data))*sum(x_data*(error))\n",
    "    b_diff=-(1/len(x_data))*sum(error)\n",
    "    a=a-lr*a_diff #학습률을 곱해 기존의 a값 업데이트\n",
    "    b=b-lr*b_diff #학습률을 곱해 기존의 b값 업데이트\n",
    "    \n",
    "    if i % 100 ==0:\n",
    "        print('epoch=%.f, 기울기=%.04f, 절편=%.04f' %(i, a, b))"
   ]
  },
  {
   "cell_type": "code",
   "execution_count": 20,
   "metadata": {},
   "outputs": [
    {
     "data": {
      "image/png": "[encoded data removed]",
      "text/plain": [
       "<Figure size 432x288 with 1 Axes>"
      ]
     },
     "metadata": {
      "needs_background": "light"
     },
     "output_type": "display_data"
    }
   ],
   "source": [
    "#앞서 구한 기울기와 절편을 이용해 그래프를 다시 그리기\n",
    "y_pred = a * x_data + b\n",
    "plt.scatter(x,y)#점\n",
    "plt.plot([min(x_data), max(x_data)],[min(y_pred), max(y_pred)])#선 그래프\n",
    "plt.show()"
   ]
  },
  {
   "cell_type": "code",
   "execution_count": null,
   "metadata": {},
   "outputs": [],
   "source": []
  }
 ],
 "metadata": {
  "kernelspec": {
   "display_name": "Python 3",
   "language": "python",
   "name": "python3"
  },
  "language_info": {
   "codemirror_mode": {
    "name": "ipython",
    "version": 3
   },
   "file_extension": ".py",
   "mimetype": "text/x-python",
   "name": "python",
   "nbconvert_exporter": "python",
   "pygments_lexer": "ipython3",
   "version": "3.8.5"
  }
 },
 "nbformat": 4,
 "nbformat_minor": 4
}
