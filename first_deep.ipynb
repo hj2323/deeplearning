{
 "cells": [
  {
   "cell_type": "code",
   "execution_count": 1,
   "metadata": {},
   "outputs": [],
   "source": [
    "#딥러닝을 구동하는 데 필요한 케라스 함수 호출러닝을 구동하는 데 필요한 케라스 함수 호출\n",
    "from tensorflow.keras.models import Sequential"
   ]
  },
  {
   "cell_type": "code",
   "execution_count": 2,
   "metadata": {},
   "outputs": [],
   "source": [
    "from tensorflow.keras.layers import Dense"
   ]
  },
  {
   "cell_type": "code",
   "execution_count": 3,
   "metadata": {},
   "outputs": [],
   "source": [
    "#필요한 라이브러리 불러옴\n",
    "import numpy as np"
   ]
  },
  {
   "cell_type": "code",
   "execution_count": 4,
   "metadata": {},
   "outputs": [],
   "source": [
    "import tensorflow as tf"
   ]
  },
  {
   "cell_type": "code",
   "execution_count": 5,
   "metadata": {},
   "outputs": [],
   "source": [
    "#실행할 때마다 같은 결과를 출력하기 위해 설정하는 부분\n",
    "np.random.seed(3)#난수를 발생할때 3으로 잡아주고\n",
    "tf.random.set_seed(3) #3으로 고정"
   ]
  },
  {
   "cell_type": "code",
   "execution_count": 7,
   "metadata": {},
   "outputs": [],
   "source": [
    "#준비된 수술 환자 데이터 읽어오기\n",
    "Data_set = np.loadtxt('./dataset/ThoraricSurgery.csv', delimiter=',')"
   ]
  },
  {
   "cell_type": "code",
   "execution_count": 8,
   "metadata": {},
   "outputs": [
    {
     "data": {
      "text/plain": [
       "array([[293.  ,   1.  ,   3.8 , ...,   0.  ,  62.  ,   0.  ],\n",
       "       [  1.  ,   2.  ,   2.88, ...,   0.  ,  60.  ,   0.  ],\n",
       "       [  8.  ,   2.  ,   3.19, ...,   0.  ,  66.  ,   1.  ],\n",
       "       ...,\n",
       "       [406.  ,   6.  ,   5.36, ...,   0.  ,  62.  ,   0.  ],\n",
       "       [ 25.  ,   8.  ,   4.32, ...,   0.  ,  58.  ,   1.  ],\n",
       "       [447.  ,   8.  ,   5.2 , ...,   0.  ,  49.  ,   0.  ]])"
      ]
     },
     "execution_count": 8,
     "metadata": {},
     "output_type": "execute_result"
    }
   ],
   "source": [
    "Data_set"
   ]
  },
  {
   "cell_type": "code",
   "execution_count": 9,
   "metadata": {},
   "outputs": [
    {
     "data": {
      "text/plain": [
       "(470, 18)"
      ]
     },
     "execution_count": 9,
     "metadata": {},
     "output_type": "execute_result"
    }
   ],
   "source": [
    "Data_set.shape"
   ]
  },
  {
   "cell_type": "code",
   "execution_count": 10,
   "metadata": {},
   "outputs": [],
   "source": [
    "#행은 전부다 열은 0부터 17까지\n",
    "X = Data_set[:, 0:17]"
   ]
  },
  {
   "cell_type": "code",
   "execution_count": 11,
   "metadata": {},
   "outputs": [],
   "source": [
    "#인덱스 17, 위치는 18번째\n",
    "Y = Data_set[:,17]"
   ]
  },
  {
   "cell_type": "code",
   "execution_count": 12,
   "metadata": {},
   "outputs": [
    {
     "data": {
      "text/plain": [
       "(470, 17)"
      ]
     },
     "execution_count": 12,
     "metadata": {},
     "output_type": "execute_result"
    }
   ],
   "source": [
    "X.shape"
   ]
  },
  {
   "cell_type": "code",
   "execution_count": 13,
   "metadata": {},
   "outputs": [
    {
     "data": {
      "text/plain": [
       "(470,)"
      ]
     },
     "execution_count": 13,
     "metadata": {},
     "output_type": "execute_result"
    }
   ],
   "source": [
    "Y.shape"
   ]
  },
  {
   "cell_type": "code",
   "execution_count": 14,
   "metadata": {},
   "outputs": [],
   "source": [
    "#딥러닝 구조를 결정(모델을 설정하고 실행하는 부분)\n",
    "model = Sequential()\n",
    "#만들어진 모델에 층을 추가\n",
    "model.add(Dense(30, input_dim=17, activation='relu'))#dense층\n",
    "#relu 일정범위를 어떻게 잡을건지 정하는 함수\n",
    "model.add(Dense(1, activation='sigmoid'))\n",
    "#하나의 유닛, sigmoid를 이용해서 결과값이 나간다."
   ]
  },
  {
   "cell_type": "code",
   "execution_count": 15,
   "metadata": {},
   "outputs": [],
   "source": [
    "#딥러닝 실행\n",
    "model.compile(loss='mean_squared_error',optimizer='adam', metrics=['accuracy'])\n",
    "#loss 예측이 실패할 확률, optimizer 최적화, metrics 정확도 테스트, accuracy는 예측이 성공할 확률"
   ]
  },
  {
   "cell_type": "code",
   "execution_count": 16,
   "metadata": {},
   "outputs": [
    {
     "name": "stdout",
     "output_type": "stream",
     "text": [
      "Epoch 1/100\n",
      "27/27 [==============================] - 0s 499us/step - loss: 0.1503 - accuracy: 0.8303\n",
      "Epoch 2/100\n",
      "27/27 [==============================] - 0s 460us/step - loss: 0.1295 - accuracy: 0.8693\n",
      "Epoch 3/100\n",
      "27/27 [==============================] - 0s 460us/step - loss: 0.1480 - accuracy: 0.8323\n",
      "Epoch 4/100\n",
      "27/27 [==============================] - 0s 460us/step - loss: 0.1412 - accuracy: 0.8449\n",
      "Epoch 5/100\n",
      "27/27 [==============================] - 0s 460us/step - loss: 0.1352 - accuracy: 0.8530\n",
      "Epoch 6/100\n",
      "27/27 [==============================] - 0s 460us/step - loss: 0.1324 - accuracy: 0.8521\n",
      "Epoch 7/100\n",
      "27/27 [==============================] - 0s 499us/step - loss: 0.1425 - accuracy: 0.8489\n",
      "Epoch 8/100\n",
      "27/27 [==============================] - 0s 460us/step - loss: 0.1442 - accuracy: 0.8472\n",
      "Epoch 9/100\n",
      "27/27 [==============================] - 0s 422us/step - loss: 0.1291 - accuracy: 0.8646\n",
      "Epoch 10/100\n",
      "27/27 [==============================] - 0s 460us/step - loss: 0.1210 - accuracy: 0.8693\n",
      "Epoch 11/100\n",
      "27/27 [==============================] - 0s 460us/step - loss: 0.1412 - accuracy: 0.8487\n",
      "Epoch 12/100\n",
      "27/27 [==============================] - 0s 460us/step - loss: 0.1376 - accuracy: 0.8393\n",
      "Epoch 13/100\n",
      "27/27 [==============================] - 0s 460us/step - loss: 0.1530 - accuracy: 0.8289\n",
      "Epoch 14/100\n",
      "27/27 [==============================] - 0s 460us/step - loss: 0.1361 - accuracy: 0.8465\n",
      "Epoch 15/100\n",
      "27/27 [==============================] - 0s 460us/step - loss: 0.1272 - accuracy: 0.8425\n",
      "Epoch 16/100\n",
      "27/27 [==============================] - 0s 460us/step - loss: 0.1359 - accuracy: 0.8608\n",
      "Epoch 17/100\n",
      "27/27 [==============================] - 0s 460us/step - loss: 0.1386 - accuracy: 0.8487\n",
      "Epoch 18/100\n",
      "27/27 [==============================] - 0s 460us/step - loss: 0.1397 - accuracy: 0.8552\n",
      "Epoch 19/100\n",
      "27/27 [==============================] - 0s 422us/step - loss: 0.1496 - accuracy: 0.8433\n",
      "Epoch 20/100\n",
      "27/27 [==============================] - 0s 460us/step - loss: 0.1224 - accuracy: 0.8655\n",
      "Epoch 21/100\n",
      "27/27 [==============================] - 0s 460us/step - loss: 0.1317 - accuracy: 0.8497\n",
      "Epoch 22/100\n",
      "27/27 [==============================] - 0s 558us/step - loss: 0.1293 - accuracy: 0.8601\n",
      "Epoch 23/100\n",
      "27/27 [==============================] - 0s 537us/step - loss: 0.1368 - accuracy: 0.8504\n",
      "Epoch 24/100\n",
      "27/27 [==============================] - 0s 575us/step - loss: 0.1431 - accuracy: 0.8471\n",
      "Epoch 25/100\n",
      "27/27 [==============================] - 0s 499us/step - loss: 0.1530 - accuracy: 0.8383\n",
      "Epoch 26/100\n",
      "27/27 [==============================] - 0s 460us/step - loss: 0.1334 - accuracy: 0.8576\n",
      "Epoch 27/100\n",
      "27/27 [==============================] - 0s 460us/step - loss: 0.1414 - accuracy: 0.8427\n",
      "Epoch 28/100\n",
      "27/27 [==============================] - 0s 422us/step - loss: 0.1384 - accuracy: 0.8426\n",
      "Epoch 29/100\n",
      "27/27 [==============================] - 0s 460us/step - loss: 0.1151 - accuracy: 0.8730\n",
      "Epoch 30/100\n",
      "27/27 [==============================] - 0s 460us/step - loss: 0.1078 - accuracy: 0.8866\n",
      "Epoch 31/100\n",
      "27/27 [==============================] - 0s 460us/step - loss: 0.1156 - accuracy: 0.8798\n",
      "Epoch 32/100\n",
      "27/27 [==============================] - 0s 460us/step - loss: 0.1322 - accuracy: 0.8600\n",
      "Epoch 33/100\n",
      "27/27 [==============================] - 0s 499us/step - loss: 0.1277 - accuracy: 0.8609\n",
      "Epoch 34/100\n",
      "27/27 [==============================] - 0s 499us/step - loss: 0.1342 - accuracy: 0.8525\n",
      "Epoch 35/100\n",
      "27/27 [==============================] - 0s 480us/step - loss: 0.1344 - accuracy: 0.8524\n",
      "Epoch 36/100\n",
      "27/27 [==============================] - 0s 460us/step - loss: 0.1461 - accuracy: 0.8297\n",
      "Epoch 37/100\n",
      "27/27 [==============================] - 0s 422us/step - loss: 0.1441 - accuracy: 0.8441\n",
      "Epoch 38/100\n",
      "27/27 [==============================] - 0s 499us/step - loss: 0.1288 - accuracy: 0.8512\n",
      "Epoch 39/100\n",
      "27/27 [==============================] - 0s 460us/step - loss: 0.1470 - accuracy: 0.8418\n",
      "Epoch 40/100\n",
      "27/27 [==============================] - 0s 499us/step - loss: 0.1362 - accuracy: 0.8457\n",
      "Epoch 41/100\n",
      "27/27 [==============================] - 0s 460us/step - loss: 0.1311 - accuracy: 0.8491\n",
      "Epoch 42/100\n",
      "27/27 [==============================] - 0s 422us/step - loss: 0.1195 - accuracy: 0.8629\n",
      "Epoch 43/100\n",
      "27/27 [==============================] - 0s 422us/step - loss: 0.1117 - accuracy: 0.8712\n",
      "Epoch 44/100\n",
      "27/27 [==============================] - 0s 575us/step - loss: 0.1095 - accuracy: 0.8752\n",
      "Epoch 45/100\n",
      "27/27 [==============================] - 0s 460us/step - loss: 0.1305 - accuracy: 0.8552\n",
      "Epoch 46/100\n",
      "27/27 [==============================] - 0s 460us/step - loss: 0.1351 - accuracy: 0.8482\n",
      "Epoch 47/100\n",
      "27/27 [==============================] - 0s 499us/step - loss: 0.1063 - accuracy: 0.8808\n",
      "Epoch 48/100\n",
      "27/27 [==============================] - 0s 460us/step - loss: 0.1254 - accuracy: 0.8641\n",
      "Epoch 49/100\n",
      "27/27 [==============================] - 0s 460us/step - loss: 0.1380 - accuracy: 0.8330\n",
      "Epoch 50/100\n",
      "27/27 [==============================] - 0s 460us/step - loss: 0.1090 - accuracy: 0.8750\n",
      "Epoch 51/100\n",
      "27/27 [==============================] - 0s 460us/step - loss: 0.1292 - accuracy: 0.8468\n",
      "Epoch 52/100\n",
      "27/27 [==============================] - 0s 499us/step - loss: 0.1564 - accuracy: 0.8291\n",
      "Epoch 53/100\n",
      "27/27 [==============================] - 0s 460us/step - loss: 0.1391 - accuracy: 0.8539\n",
      "Epoch 54/100\n",
      "27/27 [==============================] - 0s 422us/step - loss: 0.1524 - accuracy: 0.8366\n",
      "Epoch 55/100\n",
      "27/27 [==============================] - 0s 499us/step - loss: 0.1326 - accuracy: 0.8619\n",
      "Epoch 56/100\n",
      "27/27 [==============================] - 0s 460us/step - loss: 0.1447 - accuracy: 0.8485\n",
      "Epoch 57/100\n",
      "27/27 [==============================] - 0s 460us/step - loss: 0.1388 - accuracy: 0.8485\n",
      "Epoch 58/100\n",
      "27/27 [==============================] - 0s 460us/step - loss: 0.1194 - accuracy: 0.8704\n",
      "Epoch 59/100\n",
      "27/27 [==============================] - 0s 499us/step - loss: 0.1353 - accuracy: 0.8446\n",
      "Epoch 60/100\n",
      "27/27 [==============================] - 0s 499us/step - loss: 0.1137 - accuracy: 0.8676\n",
      "Epoch 61/100\n",
      "27/27 [==============================] - 0s 460us/step - loss: 0.1187 - accuracy: 0.8707\n",
      "Epoch 62/100\n",
      "27/27 [==============================] - 0s 422us/step - loss: 0.1273 - accuracy: 0.8528\n",
      "Epoch 63/100\n",
      "27/27 [==============================] - 0s 460us/step - loss: 0.1274 - accuracy: 0.8548\n",
      "Epoch 64/100\n",
      "27/27 [==============================] - 0s 460us/step - loss: 0.1270 - accuracy: 0.8534\n",
      "Epoch 65/100\n",
      "27/27 [==============================] - 0s 460us/step - loss: 0.1264 - accuracy: 0.8573\n",
      "Epoch 66/100\n",
      "27/27 [==============================] - 0s 499us/step - loss: 0.1356 - accuracy: 0.8170\n",
      "Epoch 67/100\n",
      "27/27 [==============================] - 0s 499us/step - loss: 0.1289 - accuracy: 0.8597\n",
      "Epoch 68/100\n",
      "27/27 [==============================] - 0s 460us/step - loss: 0.1220 - accuracy: 0.8668\n",
      "Epoch 69/100\n",
      "27/27 [==============================] - 0s 460us/step - loss: 0.1385 - accuracy: 0.8282\n",
      "Epoch 70/100\n",
      "27/27 [==============================] - 0s 460us/step - loss: 0.1258 - accuracy: 0.8372\n",
      "Epoch 71/100\n",
      "27/27 [==============================] - 0s 499us/step - loss: 0.1484 - accuracy: 0.7890\n",
      "Epoch 72/100\n",
      "27/27 [==============================] - 0s 499us/step - loss: 0.1277 - accuracy: 0.8646\n",
      "Epoch 73/100\n",
      "27/27 [==============================] - 0s 537us/step - loss: 0.1424 - accuracy: 0.8482\n",
      "Epoch 74/100\n",
      "27/27 [==============================] - 0s 499us/step - loss: 0.1310 - accuracy: 0.8592\n",
      "Epoch 75/100\n",
      "27/27 [==============================] - 0s 499us/step - loss: 0.1115 - accuracy: 0.8693\n",
      "Epoch 76/100\n",
      "27/27 [==============================] - 0s 499us/step - loss: 0.1289 - accuracy: 0.8604\n",
      "Epoch 77/100\n",
      "27/27 [==============================] - 0s 499us/step - loss: 0.1344 - accuracy: 0.8458\n",
      "Epoch 78/100\n",
      "27/27 [==============================] - 0s 460us/step - loss: 0.1202 - accuracy: 0.8666\n",
      "Epoch 79/100\n",
      "27/27 [==============================] - 0s 499us/step - loss: 0.1315 - accuracy: 0.8414\n",
      "Epoch 80/100\n",
      "27/27 [==============================] - 0s 460us/step - loss: 0.1291 - accuracy: 0.8305\n",
      "Epoch 81/100\n",
      "27/27 [==============================] - 0s 460us/step - loss: 0.1202 - accuracy: 0.8650\n",
      "Epoch 82/100\n",
      "27/27 [==============================] - 0s 499us/step - loss: 0.1294 - accuracy: 0.8517\n",
      "Epoch 83/100\n",
      "27/27 [==============================] - 0s 460us/step - loss: 0.1448 - accuracy: 0.8372\n",
      "Epoch 84/100\n",
      "27/27 [==============================] - 0s 499us/step - loss: 0.1029 - accuracy: 0.8871\n",
      "Epoch 85/100\n",
      "27/27 [==============================] - 0s 460us/step - loss: 0.1171 - accuracy: 0.8604\n",
      "Epoch 86/100\n",
      "27/27 [==============================] - 0s 460us/step - loss: 0.1021 - accuracy: 0.8749\n",
      "Epoch 87/100\n",
      "27/27 [==============================] - 0s 460us/step - loss: 0.1165 - accuracy: 0.8675\n",
      "Epoch 88/100\n",
      "27/27 [==============================] - 0s 460us/step - loss: 0.1217 - accuracy: 0.8564\n",
      "Epoch 89/100\n",
      "27/27 [==============================] - 0s 460us/step - loss: 0.1460 - accuracy: 0.8409\n",
      "Epoch 90/100\n",
      "27/27 [==============================] - 0s 460us/step - loss: 0.1215 - accuracy: 0.8745\n",
      "Epoch 91/100\n",
      "27/27 [==============================] - 0s 460us/step - loss: 0.1299 - accuracy: 0.8529\n",
      "Epoch 92/100\n",
      "27/27 [==============================] - 0s 499us/step - loss: 0.1275 - accuracy: 0.8495\n",
      "Epoch 93/100\n",
      "27/27 [==============================] - 0s 490us/step - loss: 0.1309 - accuracy: 0.8394\n",
      "Epoch 94/100\n",
      "27/27 [==============================] - 0s 460us/step - loss: 0.1402 - accuracy: 0.8358\n",
      "Epoch 95/100\n",
      "27/27 [==============================] - 0s 575us/step - loss: 0.1409 - accuracy: 0.8435\n",
      "Epoch 96/100\n",
      "27/27 [==============================] - 0s 460us/step - loss: 0.1264 - accuracy: 0.8662\n",
      "Epoch 97/100\n",
      "27/27 [==============================] - 0s 499us/step - loss: 0.1503 - accuracy: 0.8311\n",
      "Epoch 98/100\n",
      "27/27 [==============================] - 0s 499us/step - loss: 0.1188 - accuracy: 0.8543\n",
      "Epoch 99/100\n",
      "27/27 [==============================] - 0s 537us/step - loss: 0.1171 - accuracy: 0.8705\n",
      "Epoch 100/100\n",
      "27/27 [==============================] - 0s 499us/step - loss: 0.1330 - accuracy: 0.8521\n"
     ]
    },
    {
     "data": {
      "text/plain": [
       "<tensorflow.python.keras.callbacks.History at 0x24ed57ea6a0>"
      ]
     },
     "execution_count": 16,
     "metadata": {},
     "output_type": "execute_result"
    }
   ],
   "source": [
    "model.fit(X,Y,epochs=100, batch_size=18)#epochs 몇번 반복할거냐"
   ]
  },
  {
   "cell_type": "code",
   "execution_count": null,
   "metadata": {},
   "outputs": [],
   "source": []
  }
 ],
 "metadata": {
  "kernelspec": {
   "display_name": "Python 3",
   "language": "python",
   "name": "python3"
  },
  "language_info": {
   "codemirror_mode": {
    "name": "ipython",
    "version": 3
   },
   "file_extension": ".py",
   "mimetype": "text/x-python",
   "name": "python",
   "nbconvert_exporter": "python",
   "pygments_lexer": "ipython3",
   "version": "3.8.5"
  }
 },
 "nbformat": 4,
 "nbformat_minor": 4
}
